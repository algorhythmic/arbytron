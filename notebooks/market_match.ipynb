{
 "cells": [
  {
   "cell_type": "markdown",
   "metadata": {},
   "source": [
    "# Matching markets using embeddings\n",
    "\n",
    "Semantically match markets by event title and market description across platforms using embeddings."
   ]
  },
  {
   "cell_type": "code",
   "execution_count": null,
   "metadata": {},
   "outputs": [],
   "source": [
    "import pandas as pd\n",
    "import numpy as np\n",
    "from sentence_transformers import SentenceTransformer\n",
    "pd.options.display.max_columns = 200\n",
    "\n",
    "# Models to use: dunzhang/stella_en_1.5B_v5, dunzhang/stella_en_400M_v5\n",
    "model = SentenceTransformer('dunzhang/stella_en_1.5B_v5', trust_remote_code=True).cuda()\n",
    "# Load market data\n",
    "kalshi = pd.read_json('kalshi_markets_2025-04-23.json')\n",
    "polymarket = pd.read_json('polymarket_markets_2025-04-23.json')\n",
    "\n",
    "# Create a column for the retrieval\n",
    "kalshi[\"bet_description\"] = kalshi[\"title\"] + \" \" + kalshi[\"subtitle\"] + \"\\n\" + kalshi['rules_primary'] + \"\\nEnd date: \" + str(kalshi[\"close_time\"])\n",
    "polymarket[\"bet_description\"] = polymarket[\"question\"] + \" \" + polymarket[\"description\"] + \"\\n\" + \"\\nEnd date: \" + polymarket[\"end_date_iso\"]\n",
    "polymarket_subset = polymarket.dropna(subset=[\"bet_description\"])\n",
    "kalshi_subset = kalshi.dropna(subset=[\"bet_description\"])\n",
    "kalshi_subset.drop_duplicates(subset=[\"event_ticker\"], inplace=True)\n",
    "print(\"Polymarkets\", len(polymarket_subset))\n",
    "print(\"Kalshi\", len(kalshi_subset))\n"
   ]
  },
  {
   "cell_type": "code",
   "execution_count": null,
   "metadata": {
    "vscode": {
     "languageId": "plaintext"
    }
   },
   "outputs": [],
   "source": [
    "polymarket_subset.iloc[9307]"
   ]
  },
  {
   "cell_type": "markdown",
   "metadata": {},
   "source": [
    "## Start inference"
   ]
  },
  {
   "cell_type": "code",
   "execution_count": null,
   "metadata": {
    "vscode": {
     "languageId": "plaintext"
    }
   },
   "outputs": [],
   "source": [
    "!mkdir /polymarket/embeddings/"
   ]
  },
  {
   "cell_type": "code",
   "execution_count": null,
   "metadata": {
    "vscode": {
     "languageId": "plaintext"
    }
   },
   "outputs": [],
   "source": [
    "doc_embeddings = model.encode(polymarket_subset['bet_description'].tolist())\n",
    "# save embeddings\n",
    "np.save('polymarket_embeddings.npy', doc_embeddings)"
   ]
  },
  {
   "cell_type": "code",
   "execution_count": null,
   "metadata": {
    "vscode": {
     "languageId": "plaintext"
    }
   },
   "outputs": [],
   "source": [
    "query_embeddings = model.encode(\n",
    "    (\"\"\"Instruct: Given a prediction market event, retrieve the exact matching prediction based on date and rules.\\nQuery: \"\"\" + kalshi_subset['bet_description']\n",
    "    ).tolist())\n",
    "\n",
    "# save embeddings\n",
    "np.save('kalshi_embeddings.npy', query_embeddings)"
   ]
  },
  {
   "cell_type": "code",
   "execution_count": null,
   "metadata": {
    "vscode": {
     "languageId": "plaintext"
    }
   },
   "outputs": [],
   "source": [
    "similarities = model.similarity(query_embeddings, doc_embeddings)\n",
    "top_5_prob, top_5 = similarities.sort(1,descending=True)"
   ]
  },
  {
   "cell_type": "code",
   "execution_count": null,
   "metadata": {
    "vscode": {
     "languageId": "plaintext"
    }
   },
   "outputs": [],
   "source": [
    "top_5_prob[:15,:5]"
   ]
  },
  {
   "cell_type": "code",
   "execution_count": null,
   "metadata": {
    "vscode": {
     "languageId": "plaintext"
    }
   },
   "outputs": [],
   "source": [
    "search = pd.DataFrame(top_5)"
   ]
  },
  {
   "cell_type": "code",
   "execution_count": null,
   "metadata": {
    "vscode": {
     "languageId": "plaintext"
    }
   },
   "outputs": [],
   "source": [
    "result_map = {i:q for i, q in enumerate(polymarket_subset[\"question\"])}"
   ]
  },
  {
   "cell_type": "code",
   "execution_count": null,
   "metadata": {
    "vscode": {
     "languageId": "plaintext"
    }
   },
   "outputs": [],
   "source": [
    "search[\"question\"] = kalshi_subset[\"title\"].tolist()"
   ]
  },
  {
   "cell_type": "code",
   "execution_count": null,
   "metadata": {
    "vscode": {
     "languageId": "plaintext"
    }
   },
   "outputs": [],
   "source": [
    "search = search.replace(result_map)"
   ]
  },
  {
   "cell_type": "code",
   "execution_count": null,
   "metadata": {
    "vscode": {
     "languageId": "plaintext"
    }
   },
   "outputs": [],
   "source": [
    "search.head(20)"
   ]
  }
 ],
 "metadata": {
  "language_info": {
   "name": "python"
  }
 },
 "nbformat": 4,
 "nbformat_minor": 2
}
